{
 "cells": [
  {
   "cell_type": "code",
   "execution_count": null,
   "id": "b8e1c31a",
   "metadata": {},
   "outputs": [
    {
     "name": "stdout",
     "output_type": "stream",
     "text": [
      "classification for job:- \n",
      "accuracy:-  1.0\n",
      "precission:-  1.0\n",
      "recall:-  1.0\n",
      "f1_score:-  1.0\n",
      "regrassion for cgpa:-\n",
      "MAE:-  0.17\n",
      "R2 score:-  0.79\n"
     ]
    }
   ],
   "source": [
    "import pandas as pd\n",
    "from sklearn.model_selection import train_test_split\n",
    "from sklearn.preprocessing import LabelEncoder,OneHotEncoder\n",
    "from sklearn.tree import DecisionTreeRegressor,DecisionTreeClassifier\n",
    "from sklearn.ensemble import RandomForestRegressor\n",
    "from sklearn.metrics import accuracy_score,recall_score,precision_score,confusion_matrix,f1_score,mean_absolute_error,r2_score\n",
    "\n",
    "## pre processing:-\n",
    "data = pd.read_csv(\"student_performance_job.csv\")\n",
    "# print(data.head(3))\n",
    "# print(data.shape)\n",
    "# print(data.columns)\n",
    "# print(data.isnull().sum())\n",
    "\n",
    "x = data[[\"Age\",\"StudyHoursPerWeek\",\"AttendanceRate\",\"Internships\",\"ProjectsDone\",\"TechnicalSkills\",\"SoftSkills\",\"Extracurricular\"]]\n",
    "x = pd.get_dummies(x,columns=[\"Extracurricular\"],drop_first=True)\n",
    "\n",
    "y_job = LabelEncoder().fit_transform(data[\"JobPlacement\"])\n",
    "y_cgpa = data[\"CGPA\"]\n",
    "\n",
    "\n",
    "## split dataset:-\n",
    "x_train_cgpa, x_test_cgpa, y_cgpa_train,y_cgpa_test = train_test_split(x,y_cgpa,test_size=0.2, random_state=42)\n",
    "x_train_job,x_test_job,y_job_train,y_job_test = train_test_split(x,y_job,test_size=0.2,random_state=42)\n",
    "\n",
    "## model selection:-\n",
    "model_cgpa = DecisionTreeRegressor(max_depth=3,random_state=42)\n",
    "# model_cgpa = RandomForestRegressor(n_estimators=100, random_state=42)\n",
    "model_job = DecisionTreeClassifier(max_depth=3,random_state=42)\n",
    "\n",
    "## train the model:-\n",
    "model_job.fit(x_train_job,y_job_train)\n",
    "model_cgpa.fit(x_train_cgpa,y_cgpa_train)\n",
    "\n",
    "## predict:-\n",
    "predict_job = model_job.predict(x_test_job)\n",
    "predict_cgpa = model_cgpa.predict(x_test_cgpa)\n",
    "\n",
    "print(\"classification for job:- \")\n",
    "print(\"accuracy:- \",accuracy_score(y_job_test,predict_job))\n",
    "print(\"precission:- \",precision_score(y_job_test,predict_job))\n",
    "print(\"recall:- \",recall_score(y_job_test,predict_job))\n",
    "print(\"f1_score:- \",f1_score(y_job_test,predict_job))\n",
    "\n",
    "print(\"regrassion for cgpa:-\")\n",
    "print(\"MAE:- \",round(mean_absolute_error(y_cgpa_test,predict_cgpa),2))\n",
    "print(\"R2 score:- \",round(r2_score(y_cgpa_test,predict_cgpa),2))\n"
   ]
  }
 ],
 "metadata": {
  "kernelspec": {
   "display_name": "venv",
   "language": "python",
   "name": "python3"
  },
  "language_info": {
   "codemirror_mode": {
    "name": "ipython",
    "version": 3
   },
   "file_extension": ".py",
   "mimetype": "text/x-python",
   "name": "python",
   "nbconvert_exporter": "python",
   "pygments_lexer": "ipython3",
   "version": "3.12.4"
  }
 },
 "nbformat": 4,
 "nbformat_minor": 5
}
